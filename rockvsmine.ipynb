{
 "cells": [
  {
   "cell_type": "code",
   "execution_count": 1,
   "id": "f2b6f882",
   "metadata": {
    "_cell_guid": "b1076dfc-b9ad-4769-8c92-a6c4dae69d19",
    "_uuid": "8f2839f25d086af736a60e9eeb907d3b93b6e0e5",
    "execution": {
     "iopub.execute_input": "2022-02-10T19:33:44.877287Z",
     "iopub.status.busy": "2022-02-10T19:33:44.876224Z",
     "iopub.status.idle": "2022-02-10T19:33:44.903925Z",
     "shell.execute_reply": "2022-02-10T19:33:44.903043Z",
     "shell.execute_reply.started": "2022-02-10T19:23:44.203733Z"
    },
    "papermill": {
     "duration": 0.045919,
     "end_time": "2022-02-10T19:33:44.904156",
     "exception": false,
     "start_time": "2022-02-10T19:33:44.858237",
     "status": "completed"
    },
    "tags": []
   },
   "outputs": [
    {
     "name": "stdout",
     "output_type": "stream",
     "text": [
      "/kaggle/input/sonar-mine-dataset/sonar data.csv\n"
     ]
    }
   ],
   "source": [
    "import os\n",
    "for dirname, _, filenames in os.walk('/kaggle/input'):\n",
    "    for filename in filenames:\n",
    "        print(os.path.join(dirname, filename))\n"
   ]
  },
  {
   "cell_type": "code",
   "execution_count": 2,
   "id": "cc817029",
   "metadata": {
    "execution": {
     "iopub.execute_input": "2022-02-10T19:33:44.936725Z",
     "iopub.status.busy": "2022-02-10T19:33:44.935806Z",
     "iopub.status.idle": "2022-02-10T19:33:44.947078Z",
     "shell.execute_reply": "2022-02-10T19:33:44.947492Z",
     "shell.execute_reply.started": "2022-02-10T19:23:44.223414Z"
    },
    "papermill": {
     "duration": 0.02886,
     "end_time": "2022-02-10T19:33:44.947667",
     "exception": false,
     "start_time": "2022-02-10T19:33:44.918807",
     "status": "completed"
    },
    "tags": []
   },
   "outputs": [],
   "source": [
    "%config Completer.use_jedi = False"
   ]
  },
  {
   "cell_type": "markdown",
   "id": "15552325",
   "metadata": {
    "papermill": {
     "duration": 0.013239,
     "end_time": "2022-02-10T19:33:44.974528",
     "exception": false,
     "start_time": "2022-02-10T19:33:44.961289",
     "status": "completed"
    },
    "tags": []
   },
   "source": [
    "# We are using Logistic Regression Model\n",
    "### This is a Supervised Learning Algorithm/\n"
   ]
  },
  {
   "cell_type": "markdown",
   "id": "4b2624b5",
   "metadata": {
    "papermill": {
     "duration": 0.013111,
     "end_time": "2022-02-10T19:33:45.001110",
     "exception": false,
     "start_time": "2022-02-10T19:33:44.987999",
     "status": "completed"
    },
    "tags": []
   },
   "source": [
    "## Import Dependancies "
   ]
  },
  {
   "cell_type": "code",
   "execution_count": 3,
   "id": "d4c61498",
   "metadata": {
    "execution": {
     "iopub.execute_input": "2022-02-10T19:33:45.033056Z",
     "iopub.status.busy": "2022-02-10T19:33:45.031168Z",
     "iopub.status.idle": "2022-02-10T19:33:46.259527Z",
     "shell.execute_reply": "2022-02-10T19:33:46.258994Z",
     "shell.execute_reply.started": "2022-02-10T19:23:44.251133Z"
    },
    "papermill": {
     "duration": 1.245045,
     "end_time": "2022-02-10T19:33:46.259683",
     "exception": false,
     "start_time": "2022-02-10T19:33:45.014638",
     "status": "completed"
    },
    "tags": []
   },
   "outputs": [],
   "source": [
    "import numpy as np # linear algebra\n",
    "import pandas as pd # data processing, CSV file I/O (e.g. pd.read_csv)\n",
    "from sklearn.model_selection import train_test_split\n",
    "from sklearn.linear_model import LogisticRegression\n",
    "from sklearn.metrics import accuracy_score # gives accu. of model"
   ]
  },
  {
   "cell_type": "markdown",
   "id": "f0772e7b",
   "metadata": {
    "papermill": {
     "duration": 0.013319,
     "end_time": "2022-02-10T19:33:46.286753",
     "exception": false,
     "start_time": "2022-02-10T19:33:46.273434",
     "status": "completed"
    },
    "tags": []
   },
   "source": [
    "## Data Collection and Processing"
   ]
  },
  {
   "cell_type": "code",
   "execution_count": 4,
   "id": "67ddb1ea",
   "metadata": {
    "execution": {
     "iopub.execute_input": "2022-02-10T19:33:46.320347Z",
     "iopub.status.busy": "2022-02-10T19:33:46.319615Z",
     "iopub.status.idle": "2022-02-10T19:33:46.372526Z",
     "shell.execute_reply": "2022-02-10T19:33:46.373086Z",
     "shell.execute_reply.started": "2022-02-10T19:23:44.258059Z"
    },
    "papermill": {
     "duration": 0.072835,
     "end_time": "2022-02-10T19:33:46.373267",
     "exception": false,
     "start_time": "2022-02-10T19:33:46.300432",
     "status": "completed"
    },
    "tags": []
   },
   "outputs": [
    {
     "data": {
      "text/html": [
       "<div>\n",
       "<style scoped>\n",
       "    .dataframe tbody tr th:only-of-type {\n",
       "        vertical-align: middle;\n",
       "    }\n",
       "\n",
       "    .dataframe tbody tr th {\n",
       "        vertical-align: top;\n",
       "    }\n",
       "\n",
       "    .dataframe thead th {\n",
       "        text-align: right;\n",
       "    }\n",
       "</style>\n",
       "<table border=\"1\" class=\"dataframe\">\n",
       "  <thead>\n",
       "    <tr style=\"text-align: right;\">\n",
       "      <th></th>\n",
       "      <th>0</th>\n",
       "      <th>1</th>\n",
       "      <th>2</th>\n",
       "      <th>3</th>\n",
       "      <th>4</th>\n",
       "      <th>5</th>\n",
       "      <th>6</th>\n",
       "      <th>7</th>\n",
       "      <th>8</th>\n",
       "      <th>9</th>\n",
       "      <th>...</th>\n",
       "      <th>51</th>\n",
       "      <th>52</th>\n",
       "      <th>53</th>\n",
       "      <th>54</th>\n",
       "      <th>55</th>\n",
       "      <th>56</th>\n",
       "      <th>57</th>\n",
       "      <th>58</th>\n",
       "      <th>59</th>\n",
       "      <th>60</th>\n",
       "    </tr>\n",
       "  </thead>\n",
       "  <tbody>\n",
       "    <tr>\n",
       "      <th>0</th>\n",
       "      <td>0.0200</td>\n",
       "      <td>0.0371</td>\n",
       "      <td>0.0428</td>\n",
       "      <td>0.0207</td>\n",
       "      <td>0.0954</td>\n",
       "      <td>0.0986</td>\n",
       "      <td>0.1539</td>\n",
       "      <td>0.1601</td>\n",
       "      <td>0.3109</td>\n",
       "      <td>0.2111</td>\n",
       "      <td>...</td>\n",
       "      <td>0.0027</td>\n",
       "      <td>0.0065</td>\n",
       "      <td>0.0159</td>\n",
       "      <td>0.0072</td>\n",
       "      <td>0.0167</td>\n",
       "      <td>0.0180</td>\n",
       "      <td>0.0084</td>\n",
       "      <td>0.0090</td>\n",
       "      <td>0.0032</td>\n",
       "      <td>R</td>\n",
       "    </tr>\n",
       "    <tr>\n",
       "      <th>1</th>\n",
       "      <td>0.0453</td>\n",
       "      <td>0.0523</td>\n",
       "      <td>0.0843</td>\n",
       "      <td>0.0689</td>\n",
       "      <td>0.1183</td>\n",
       "      <td>0.2583</td>\n",
       "      <td>0.2156</td>\n",
       "      <td>0.3481</td>\n",
       "      <td>0.3337</td>\n",
       "      <td>0.2872</td>\n",
       "      <td>...</td>\n",
       "      <td>0.0084</td>\n",
       "      <td>0.0089</td>\n",
       "      <td>0.0048</td>\n",
       "      <td>0.0094</td>\n",
       "      <td>0.0191</td>\n",
       "      <td>0.0140</td>\n",
       "      <td>0.0049</td>\n",
       "      <td>0.0052</td>\n",
       "      <td>0.0044</td>\n",
       "      <td>R</td>\n",
       "    </tr>\n",
       "    <tr>\n",
       "      <th>2</th>\n",
       "      <td>0.0262</td>\n",
       "      <td>0.0582</td>\n",
       "      <td>0.1099</td>\n",
       "      <td>0.1083</td>\n",
       "      <td>0.0974</td>\n",
       "      <td>0.2280</td>\n",
       "      <td>0.2431</td>\n",
       "      <td>0.3771</td>\n",
       "      <td>0.5598</td>\n",
       "      <td>0.6194</td>\n",
       "      <td>...</td>\n",
       "      <td>0.0232</td>\n",
       "      <td>0.0166</td>\n",
       "      <td>0.0095</td>\n",
       "      <td>0.0180</td>\n",
       "      <td>0.0244</td>\n",
       "      <td>0.0316</td>\n",
       "      <td>0.0164</td>\n",
       "      <td>0.0095</td>\n",
       "      <td>0.0078</td>\n",
       "      <td>R</td>\n",
       "    </tr>\n",
       "    <tr>\n",
       "      <th>3</th>\n",
       "      <td>0.0100</td>\n",
       "      <td>0.0171</td>\n",
       "      <td>0.0623</td>\n",
       "      <td>0.0205</td>\n",
       "      <td>0.0205</td>\n",
       "      <td>0.0368</td>\n",
       "      <td>0.1098</td>\n",
       "      <td>0.1276</td>\n",
       "      <td>0.0598</td>\n",
       "      <td>0.1264</td>\n",
       "      <td>...</td>\n",
       "      <td>0.0121</td>\n",
       "      <td>0.0036</td>\n",
       "      <td>0.0150</td>\n",
       "      <td>0.0085</td>\n",
       "      <td>0.0073</td>\n",
       "      <td>0.0050</td>\n",
       "      <td>0.0044</td>\n",
       "      <td>0.0040</td>\n",
       "      <td>0.0117</td>\n",
       "      <td>R</td>\n",
       "    </tr>\n",
       "    <tr>\n",
       "      <th>4</th>\n",
       "      <td>0.0762</td>\n",
       "      <td>0.0666</td>\n",
       "      <td>0.0481</td>\n",
       "      <td>0.0394</td>\n",
       "      <td>0.0590</td>\n",
       "      <td>0.0649</td>\n",
       "      <td>0.1209</td>\n",
       "      <td>0.2467</td>\n",
       "      <td>0.3564</td>\n",
       "      <td>0.4459</td>\n",
       "      <td>...</td>\n",
       "      <td>0.0031</td>\n",
       "      <td>0.0054</td>\n",
       "      <td>0.0105</td>\n",
       "      <td>0.0110</td>\n",
       "      <td>0.0015</td>\n",
       "      <td>0.0072</td>\n",
       "      <td>0.0048</td>\n",
       "      <td>0.0107</td>\n",
       "      <td>0.0094</td>\n",
       "      <td>R</td>\n",
       "    </tr>\n",
       "  </tbody>\n",
       "</table>\n",
       "<p>5 rows × 61 columns</p>\n",
       "</div>"
      ],
      "text/plain": [
       "       0       1       2       3       4       5       6       7       8   \\\n",
       "0  0.0200  0.0371  0.0428  0.0207  0.0954  0.0986  0.1539  0.1601  0.3109   \n",
       "1  0.0453  0.0523  0.0843  0.0689  0.1183  0.2583  0.2156  0.3481  0.3337   \n",
       "2  0.0262  0.0582  0.1099  0.1083  0.0974  0.2280  0.2431  0.3771  0.5598   \n",
       "3  0.0100  0.0171  0.0623  0.0205  0.0205  0.0368  0.1098  0.1276  0.0598   \n",
       "4  0.0762  0.0666  0.0481  0.0394  0.0590  0.0649  0.1209  0.2467  0.3564   \n",
       "\n",
       "       9   ...      51      52      53      54      55      56      57  \\\n",
       "0  0.2111  ...  0.0027  0.0065  0.0159  0.0072  0.0167  0.0180  0.0084   \n",
       "1  0.2872  ...  0.0084  0.0089  0.0048  0.0094  0.0191  0.0140  0.0049   \n",
       "2  0.6194  ...  0.0232  0.0166  0.0095  0.0180  0.0244  0.0316  0.0164   \n",
       "3  0.1264  ...  0.0121  0.0036  0.0150  0.0085  0.0073  0.0050  0.0044   \n",
       "4  0.4459  ...  0.0031  0.0054  0.0105  0.0110  0.0015  0.0072  0.0048   \n",
       "\n",
       "       58      59  60  \n",
       "0  0.0090  0.0032   R  \n",
       "1  0.0052  0.0044   R  \n",
       "2  0.0095  0.0078   R  \n",
       "3  0.0040  0.0117   R  \n",
       "4  0.0107  0.0094   R  \n",
       "\n",
       "[5 rows x 61 columns]"
      ]
     },
     "execution_count": 4,
     "metadata": {},
     "output_type": "execute_result"
    }
   ],
   "source": [
    "df = pd.read_csv(\"../input/sonar-mine-dataset/sonar data.csv\", header=None)\n",
    "df.head()"
   ]
  },
  {
   "cell_type": "code",
   "execution_count": 5,
   "id": "35e300fb",
   "metadata": {
    "execution": {
     "iopub.execute_input": "2022-02-10T19:33:46.409528Z",
     "iopub.status.busy": "2022-02-10T19:33:46.408887Z",
     "iopub.status.idle": "2022-02-10T19:33:46.412227Z",
     "shell.execute_reply": "2022-02-10T19:33:46.412767Z",
     "shell.execute_reply.started": "2022-02-10T19:23:44.311663Z"
    },
    "papermill": {
     "duration": 0.024241,
     "end_time": "2022-02-10T19:33:46.412944",
     "exception": false,
     "start_time": "2022-02-10T19:33:46.388703",
     "status": "completed"
    },
    "tags": []
   },
   "outputs": [
    {
     "data": {
      "text/plain": [
       "(208, 61)"
      ]
     },
     "execution_count": 5,
     "metadata": {},
     "output_type": "execute_result"
    }
   ],
   "source": [
    "df.shape"
   ]
  },
  {
   "cell_type": "code",
   "execution_count": 6,
   "id": "40cfb18c",
   "metadata": {
    "execution": {
     "iopub.execute_input": "2022-02-10T19:33:46.444831Z",
     "iopub.status.busy": "2022-02-10T19:33:46.444240Z",
     "iopub.status.idle": "2022-02-10T19:33:46.576626Z",
     "shell.execute_reply": "2022-02-10T19:33:46.577125Z",
     "shell.execute_reply.started": "2022-02-10T19:23:44.318546Z"
    },
    "papermill": {
     "duration": 0.149988,
     "end_time": "2022-02-10T19:33:46.577322",
     "exception": false,
     "start_time": "2022-02-10T19:33:46.427334",
     "status": "completed"
    },
    "tags": []
   },
   "outputs": [
    {
     "data": {
      "text/html": [
       "<div>\n",
       "<style scoped>\n",
       "    .dataframe tbody tr th:only-of-type {\n",
       "        vertical-align: middle;\n",
       "    }\n",
       "\n",
       "    .dataframe tbody tr th {\n",
       "        vertical-align: top;\n",
       "    }\n",
       "\n",
       "    .dataframe thead th {\n",
       "        text-align: right;\n",
       "    }\n",
       "</style>\n",
       "<table border=\"1\" class=\"dataframe\">\n",
       "  <thead>\n",
       "    <tr style=\"text-align: right;\">\n",
       "      <th></th>\n",
       "      <th>0</th>\n",
       "      <th>1</th>\n",
       "      <th>2</th>\n",
       "      <th>3</th>\n",
       "      <th>4</th>\n",
       "      <th>5</th>\n",
       "      <th>6</th>\n",
       "      <th>7</th>\n",
       "      <th>8</th>\n",
       "      <th>9</th>\n",
       "      <th>...</th>\n",
       "      <th>50</th>\n",
       "      <th>51</th>\n",
       "      <th>52</th>\n",
       "      <th>53</th>\n",
       "      <th>54</th>\n",
       "      <th>55</th>\n",
       "      <th>56</th>\n",
       "      <th>57</th>\n",
       "      <th>58</th>\n",
       "      <th>59</th>\n",
       "    </tr>\n",
       "  </thead>\n",
       "  <tbody>\n",
       "    <tr>\n",
       "      <th>count</th>\n",
       "      <td>208.000000</td>\n",
       "      <td>208.000000</td>\n",
       "      <td>208.000000</td>\n",
       "      <td>208.000000</td>\n",
       "      <td>208.000000</td>\n",
       "      <td>208.000000</td>\n",
       "      <td>208.000000</td>\n",
       "      <td>208.000000</td>\n",
       "      <td>208.000000</td>\n",
       "      <td>208.000000</td>\n",
       "      <td>...</td>\n",
       "      <td>208.000000</td>\n",
       "      <td>208.000000</td>\n",
       "      <td>208.000000</td>\n",
       "      <td>208.000000</td>\n",
       "      <td>208.000000</td>\n",
       "      <td>208.000000</td>\n",
       "      <td>208.000000</td>\n",
       "      <td>208.000000</td>\n",
       "      <td>208.000000</td>\n",
       "      <td>208.000000</td>\n",
       "    </tr>\n",
       "    <tr>\n",
       "      <th>mean</th>\n",
       "      <td>0.029164</td>\n",
       "      <td>0.038437</td>\n",
       "      <td>0.043832</td>\n",
       "      <td>0.053892</td>\n",
       "      <td>0.075202</td>\n",
       "      <td>0.104570</td>\n",
       "      <td>0.121747</td>\n",
       "      <td>0.134799</td>\n",
       "      <td>0.178003</td>\n",
       "      <td>0.208259</td>\n",
       "      <td>...</td>\n",
       "      <td>0.016069</td>\n",
       "      <td>0.013420</td>\n",
       "      <td>0.010709</td>\n",
       "      <td>0.010941</td>\n",
       "      <td>0.009290</td>\n",
       "      <td>0.008222</td>\n",
       "      <td>0.007820</td>\n",
       "      <td>0.007949</td>\n",
       "      <td>0.007941</td>\n",
       "      <td>0.006507</td>\n",
       "    </tr>\n",
       "    <tr>\n",
       "      <th>std</th>\n",
       "      <td>0.022991</td>\n",
       "      <td>0.032960</td>\n",
       "      <td>0.038428</td>\n",
       "      <td>0.046528</td>\n",
       "      <td>0.055552</td>\n",
       "      <td>0.059105</td>\n",
       "      <td>0.061788</td>\n",
       "      <td>0.085152</td>\n",
       "      <td>0.118387</td>\n",
       "      <td>0.134416</td>\n",
       "      <td>...</td>\n",
       "      <td>0.012008</td>\n",
       "      <td>0.009634</td>\n",
       "      <td>0.007060</td>\n",
       "      <td>0.007301</td>\n",
       "      <td>0.007088</td>\n",
       "      <td>0.005736</td>\n",
       "      <td>0.005785</td>\n",
       "      <td>0.006470</td>\n",
       "      <td>0.006181</td>\n",
       "      <td>0.005031</td>\n",
       "    </tr>\n",
       "    <tr>\n",
       "      <th>min</th>\n",
       "      <td>0.001500</td>\n",
       "      <td>0.000600</td>\n",
       "      <td>0.001500</td>\n",
       "      <td>0.005800</td>\n",
       "      <td>0.006700</td>\n",
       "      <td>0.010200</td>\n",
       "      <td>0.003300</td>\n",
       "      <td>0.005500</td>\n",
       "      <td>0.007500</td>\n",
       "      <td>0.011300</td>\n",
       "      <td>...</td>\n",
       "      <td>0.000000</td>\n",
       "      <td>0.000800</td>\n",
       "      <td>0.000500</td>\n",
       "      <td>0.001000</td>\n",
       "      <td>0.000600</td>\n",
       "      <td>0.000400</td>\n",
       "      <td>0.000300</td>\n",
       "      <td>0.000300</td>\n",
       "      <td>0.000100</td>\n",
       "      <td>0.000600</td>\n",
       "    </tr>\n",
       "    <tr>\n",
       "      <th>25%</th>\n",
       "      <td>0.013350</td>\n",
       "      <td>0.016450</td>\n",
       "      <td>0.018950</td>\n",
       "      <td>0.024375</td>\n",
       "      <td>0.038050</td>\n",
       "      <td>0.067025</td>\n",
       "      <td>0.080900</td>\n",
       "      <td>0.080425</td>\n",
       "      <td>0.097025</td>\n",
       "      <td>0.111275</td>\n",
       "      <td>...</td>\n",
       "      <td>0.008425</td>\n",
       "      <td>0.007275</td>\n",
       "      <td>0.005075</td>\n",
       "      <td>0.005375</td>\n",
       "      <td>0.004150</td>\n",
       "      <td>0.004400</td>\n",
       "      <td>0.003700</td>\n",
       "      <td>0.003600</td>\n",
       "      <td>0.003675</td>\n",
       "      <td>0.003100</td>\n",
       "    </tr>\n",
       "    <tr>\n",
       "      <th>50%</th>\n",
       "      <td>0.022800</td>\n",
       "      <td>0.030800</td>\n",
       "      <td>0.034300</td>\n",
       "      <td>0.044050</td>\n",
       "      <td>0.062500</td>\n",
       "      <td>0.092150</td>\n",
       "      <td>0.106950</td>\n",
       "      <td>0.112100</td>\n",
       "      <td>0.152250</td>\n",
       "      <td>0.182400</td>\n",
       "      <td>...</td>\n",
       "      <td>0.013900</td>\n",
       "      <td>0.011400</td>\n",
       "      <td>0.009550</td>\n",
       "      <td>0.009300</td>\n",
       "      <td>0.007500</td>\n",
       "      <td>0.006850</td>\n",
       "      <td>0.005950</td>\n",
       "      <td>0.005800</td>\n",
       "      <td>0.006400</td>\n",
       "      <td>0.005300</td>\n",
       "    </tr>\n",
       "    <tr>\n",
       "      <th>75%</th>\n",
       "      <td>0.035550</td>\n",
       "      <td>0.047950</td>\n",
       "      <td>0.057950</td>\n",
       "      <td>0.064500</td>\n",
       "      <td>0.100275</td>\n",
       "      <td>0.134125</td>\n",
       "      <td>0.154000</td>\n",
       "      <td>0.169600</td>\n",
       "      <td>0.233425</td>\n",
       "      <td>0.268700</td>\n",
       "      <td>...</td>\n",
       "      <td>0.020825</td>\n",
       "      <td>0.016725</td>\n",
       "      <td>0.014900</td>\n",
       "      <td>0.014500</td>\n",
       "      <td>0.012100</td>\n",
       "      <td>0.010575</td>\n",
       "      <td>0.010425</td>\n",
       "      <td>0.010350</td>\n",
       "      <td>0.010325</td>\n",
       "      <td>0.008525</td>\n",
       "    </tr>\n",
       "    <tr>\n",
       "      <th>max</th>\n",
       "      <td>0.137100</td>\n",
       "      <td>0.233900</td>\n",
       "      <td>0.305900</td>\n",
       "      <td>0.426400</td>\n",
       "      <td>0.401000</td>\n",
       "      <td>0.382300</td>\n",
       "      <td>0.372900</td>\n",
       "      <td>0.459000</td>\n",
       "      <td>0.682800</td>\n",
       "      <td>0.710600</td>\n",
       "      <td>...</td>\n",
       "      <td>0.100400</td>\n",
       "      <td>0.070900</td>\n",
       "      <td>0.039000</td>\n",
       "      <td>0.035200</td>\n",
       "      <td>0.044700</td>\n",
       "      <td>0.039400</td>\n",
       "      <td>0.035500</td>\n",
       "      <td>0.044000</td>\n",
       "      <td>0.036400</td>\n",
       "      <td>0.043900</td>\n",
       "    </tr>\n",
       "  </tbody>\n",
       "</table>\n",
       "<p>8 rows × 60 columns</p>\n",
       "</div>"
      ],
      "text/plain": [
       "               0           1           2           3           4           5   \\\n",
       "count  208.000000  208.000000  208.000000  208.000000  208.000000  208.000000   \n",
       "mean     0.029164    0.038437    0.043832    0.053892    0.075202    0.104570   \n",
       "std      0.022991    0.032960    0.038428    0.046528    0.055552    0.059105   \n",
       "min      0.001500    0.000600    0.001500    0.005800    0.006700    0.010200   \n",
       "25%      0.013350    0.016450    0.018950    0.024375    0.038050    0.067025   \n",
       "50%      0.022800    0.030800    0.034300    0.044050    0.062500    0.092150   \n",
       "75%      0.035550    0.047950    0.057950    0.064500    0.100275    0.134125   \n",
       "max      0.137100    0.233900    0.305900    0.426400    0.401000    0.382300   \n",
       "\n",
       "               6           7           8           9   ...          50  \\\n",
       "count  208.000000  208.000000  208.000000  208.000000  ...  208.000000   \n",
       "mean     0.121747    0.134799    0.178003    0.208259  ...    0.016069   \n",
       "std      0.061788    0.085152    0.118387    0.134416  ...    0.012008   \n",
       "min      0.003300    0.005500    0.007500    0.011300  ...    0.000000   \n",
       "25%      0.080900    0.080425    0.097025    0.111275  ...    0.008425   \n",
       "50%      0.106950    0.112100    0.152250    0.182400  ...    0.013900   \n",
       "75%      0.154000    0.169600    0.233425    0.268700  ...    0.020825   \n",
       "max      0.372900    0.459000    0.682800    0.710600  ...    0.100400   \n",
       "\n",
       "               51          52          53          54          55          56  \\\n",
       "count  208.000000  208.000000  208.000000  208.000000  208.000000  208.000000   \n",
       "mean     0.013420    0.010709    0.010941    0.009290    0.008222    0.007820   \n",
       "std      0.009634    0.007060    0.007301    0.007088    0.005736    0.005785   \n",
       "min      0.000800    0.000500    0.001000    0.000600    0.000400    0.000300   \n",
       "25%      0.007275    0.005075    0.005375    0.004150    0.004400    0.003700   \n",
       "50%      0.011400    0.009550    0.009300    0.007500    0.006850    0.005950   \n",
       "75%      0.016725    0.014900    0.014500    0.012100    0.010575    0.010425   \n",
       "max      0.070900    0.039000    0.035200    0.044700    0.039400    0.035500   \n",
       "\n",
       "               57          58          59  \n",
       "count  208.000000  208.000000  208.000000  \n",
       "mean     0.007949    0.007941    0.006507  \n",
       "std      0.006470    0.006181    0.005031  \n",
       "min      0.000300    0.000100    0.000600  \n",
       "25%      0.003600    0.003675    0.003100  \n",
       "50%      0.005800    0.006400    0.005300  \n",
       "75%      0.010350    0.010325    0.008525  \n",
       "max      0.044000    0.036400    0.043900  \n",
       "\n",
       "[8 rows x 60 columns]"
      ]
     },
     "execution_count": 6,
     "metadata": {},
     "output_type": "execute_result"
    }
   ],
   "source": [
    "df.describe() #stats"
   ]
  },
  {
   "cell_type": "code",
   "execution_count": 7,
   "id": "f216cfdc",
   "metadata": {
    "execution": {
     "iopub.execute_input": "2022-02-10T19:33:46.617598Z",
     "iopub.status.busy": "2022-02-10T19:33:46.616672Z",
     "iopub.status.idle": "2022-02-10T19:33:46.620264Z",
     "shell.execute_reply": "2022-02-10T19:33:46.620690Z",
     "shell.execute_reply.started": "2022-02-10T19:23:44.463722Z"
    },
    "papermill": {
     "duration": 0.026915,
     "end_time": "2022-02-10T19:33:46.620895",
     "exception": false,
     "start_time": "2022-02-10T19:33:46.593980",
     "status": "completed"
    },
    "tags": []
   },
   "outputs": [
    {
     "data": {
      "text/plain": [
       "M    111\n",
       "R     97\n",
       "Name: 60, dtype: int64"
      ]
     },
     "execution_count": 7,
     "metadata": {},
     "output_type": "execute_result"
    }
   ],
   "source": [
    "df[60].value_counts() #value_counts() function returns object containing counts of unique values"
   ]
  },
  {
   "cell_type": "markdown",
   "id": "1f87cee0",
   "metadata": {
    "papermill": {
     "duration": 0.015624,
     "end_time": "2022-02-10T19:33:46.652154",
     "exception": false,
     "start_time": "2022-02-10T19:33:46.636530",
     "status": "completed"
    },
    "tags": []
   },
   "source": [
    "### More the Data more accurate model is above we are checking the count of unique values i.e of R and M \n",
    "## Let's group data by Mine and Rock"
   ]
  },
  {
   "cell_type": "markdown",
   "id": "9fc6ab82",
   "metadata": {
    "papermill": {
     "duration": 0.015675,
     "end_time": "2022-02-10T19:33:46.683692",
     "exception": false,
     "start_time": "2022-02-10T19:33:46.668017",
     "status": "completed"
    },
    "tags": []
   },
   "source": [
    "*first we group by M and R and Find their mean of each column*"
   ]
  },
  {
   "cell_type": "code",
   "execution_count": 8,
   "id": "ae83f3ed",
   "metadata": {
    "execution": {
     "iopub.execute_input": "2022-02-10T19:33:46.722135Z",
     "iopub.status.busy": "2022-02-10T19:33:46.721489Z",
     "iopub.status.idle": "2022-02-10T19:33:46.743124Z",
     "shell.execute_reply": "2022-02-10T19:33:46.743602Z",
     "shell.execute_reply.started": "2022-02-10T19:23:44.473656Z"
    },
    "papermill": {
     "duration": 0.044489,
     "end_time": "2022-02-10T19:33:46.743769",
     "exception": false,
     "start_time": "2022-02-10T19:33:46.699280",
     "status": "completed"
    },
    "tags": []
   },
   "outputs": [
    {
     "data": {
      "text/html": [
       "<div>\n",
       "<style scoped>\n",
       "    .dataframe tbody tr th:only-of-type {\n",
       "        vertical-align: middle;\n",
       "    }\n",
       "\n",
       "    .dataframe tbody tr th {\n",
       "        vertical-align: top;\n",
       "    }\n",
       "\n",
       "    .dataframe thead th {\n",
       "        text-align: right;\n",
       "    }\n",
       "</style>\n",
       "<table border=\"1\" class=\"dataframe\">\n",
       "  <thead>\n",
       "    <tr style=\"text-align: right;\">\n",
       "      <th></th>\n",
       "      <th>0</th>\n",
       "      <th>1</th>\n",
       "      <th>2</th>\n",
       "      <th>3</th>\n",
       "      <th>4</th>\n",
       "      <th>5</th>\n",
       "      <th>6</th>\n",
       "      <th>7</th>\n",
       "      <th>8</th>\n",
       "      <th>9</th>\n",
       "      <th>...</th>\n",
       "      <th>50</th>\n",
       "      <th>51</th>\n",
       "      <th>52</th>\n",
       "      <th>53</th>\n",
       "      <th>54</th>\n",
       "      <th>55</th>\n",
       "      <th>56</th>\n",
       "      <th>57</th>\n",
       "      <th>58</th>\n",
       "      <th>59</th>\n",
       "    </tr>\n",
       "    <tr>\n",
       "      <th>60</th>\n",
       "      <th></th>\n",
       "      <th></th>\n",
       "      <th></th>\n",
       "      <th></th>\n",
       "      <th></th>\n",
       "      <th></th>\n",
       "      <th></th>\n",
       "      <th></th>\n",
       "      <th></th>\n",
       "      <th></th>\n",
       "      <th></th>\n",
       "      <th></th>\n",
       "      <th></th>\n",
       "      <th></th>\n",
       "      <th></th>\n",
       "      <th></th>\n",
       "      <th></th>\n",
       "      <th></th>\n",
       "      <th></th>\n",
       "      <th></th>\n",
       "      <th></th>\n",
       "    </tr>\n",
       "  </thead>\n",
       "  <tbody>\n",
       "    <tr>\n",
       "      <th>M</th>\n",
       "      <td>0.034989</td>\n",
       "      <td>0.045544</td>\n",
       "      <td>0.050720</td>\n",
       "      <td>0.064768</td>\n",
       "      <td>0.086715</td>\n",
       "      <td>0.111864</td>\n",
       "      <td>0.128359</td>\n",
       "      <td>0.149832</td>\n",
       "      <td>0.213492</td>\n",
       "      <td>0.251022</td>\n",
       "      <td>...</td>\n",
       "      <td>0.019352</td>\n",
       "      <td>0.016014</td>\n",
       "      <td>0.011643</td>\n",
       "      <td>0.012185</td>\n",
       "      <td>0.009923</td>\n",
       "      <td>0.008914</td>\n",
       "      <td>0.007825</td>\n",
       "      <td>0.009060</td>\n",
       "      <td>0.008695</td>\n",
       "      <td>0.006930</td>\n",
       "    </tr>\n",
       "    <tr>\n",
       "      <th>R</th>\n",
       "      <td>0.022498</td>\n",
       "      <td>0.030303</td>\n",
       "      <td>0.035951</td>\n",
       "      <td>0.041447</td>\n",
       "      <td>0.062028</td>\n",
       "      <td>0.096224</td>\n",
       "      <td>0.114180</td>\n",
       "      <td>0.117596</td>\n",
       "      <td>0.137392</td>\n",
       "      <td>0.159325</td>\n",
       "      <td>...</td>\n",
       "      <td>0.012311</td>\n",
       "      <td>0.010453</td>\n",
       "      <td>0.009640</td>\n",
       "      <td>0.009518</td>\n",
       "      <td>0.008567</td>\n",
       "      <td>0.007430</td>\n",
       "      <td>0.007814</td>\n",
       "      <td>0.006677</td>\n",
       "      <td>0.007078</td>\n",
       "      <td>0.006024</td>\n",
       "    </tr>\n",
       "  </tbody>\n",
       "</table>\n",
       "<p>2 rows × 60 columns</p>\n",
       "</div>"
      ],
      "text/plain": [
       "          0         1         2         3         4         5         6   \\\n",
       "60                                                                         \n",
       "M   0.034989  0.045544  0.050720  0.064768  0.086715  0.111864  0.128359   \n",
       "R   0.022498  0.030303  0.035951  0.041447  0.062028  0.096224  0.114180   \n",
       "\n",
       "          7         8         9   ...        50        51        52        53  \\\n",
       "60                                ...                                           \n",
       "M   0.149832  0.213492  0.251022  ...  0.019352  0.016014  0.011643  0.012185   \n",
       "R   0.117596  0.137392  0.159325  ...  0.012311  0.010453  0.009640  0.009518   \n",
       "\n",
       "          54        55        56        57        58        59  \n",
       "60                                                              \n",
       "M   0.009923  0.008914  0.007825  0.009060  0.008695  0.006930  \n",
       "R   0.008567  0.007430  0.007814  0.006677  0.007078  0.006024  \n",
       "\n",
       "[2 rows x 60 columns]"
      ]
     },
     "execution_count": 8,
     "metadata": {},
     "output_type": "execute_result"
    }
   ],
   "source": [
    "df.groupby(60).mean()"
   ]
  },
  {
   "cell_type": "markdown",
   "id": "fcc3082b",
   "metadata": {
    "papermill": {
     "duration": 0.015594,
     "end_time": "2022-02-10T19:33:46.775838",
     "exception": false,
     "start_time": "2022-02-10T19:33:46.760244",
     "status": "completed"
    },
    "tags": []
   },
   "source": [
    "*Seperating Data and Lables i.e deleting M and R lables*"
   ]
  },
  {
   "cell_type": "code",
   "execution_count": 9,
   "id": "d27b3976",
   "metadata": {
    "execution": {
     "iopub.execute_input": "2022-02-10T19:33:46.811582Z",
     "iopub.status.busy": "2022-02-10T19:33:46.810608Z",
     "iopub.status.idle": "2022-02-10T19:33:46.815560Z",
     "shell.execute_reply": "2022-02-10T19:33:46.816059Z",
     "shell.execute_reply.started": "2022-02-10T19:23:44.511205Z"
    },
    "papermill": {
     "duration": 0.024471,
     "end_time": "2022-02-10T19:33:46.816246",
     "exception": false,
     "start_time": "2022-02-10T19:33:46.791775",
     "status": "completed"
    },
    "tags": []
   },
   "outputs": [],
   "source": [
    "X = df.drop(columns=60 ,axis=0)\n",
    "y = df[60]"
   ]
  },
  {
   "cell_type": "markdown",
   "id": "1e6f3d67",
   "metadata": {
    "papermill": {
     "duration": 0.015716,
     "end_time": "2022-02-10T19:33:46.847981",
     "exception": false,
     "start_time": "2022-02-10T19:33:46.832265",
     "status": "completed"
    },
    "tags": []
   },
   "source": [
    "## Splitting in Training and Test Data \n",
    "* test size = we need 10 % as vald\n",
    "* stratify = we will have equal no of rocks and mines in both train and validation data\n",
    "* random_state = to keep data same every time "
   ]
  },
  {
   "cell_type": "code",
   "execution_count": 10,
   "id": "7706b82d",
   "metadata": {
    "execution": {
     "iopub.execute_input": "2022-02-10T19:33:46.884665Z",
     "iopub.status.busy": "2022-02-10T19:33:46.883750Z",
     "iopub.status.idle": "2022-02-10T19:33:46.892599Z",
     "shell.execute_reply": "2022-02-10T19:33:46.893235Z",
     "shell.execute_reply.started": "2022-02-10T19:23:44.518963Z"
    },
    "papermill": {
     "duration": 0.028932,
     "end_time": "2022-02-10T19:33:46.893404",
     "exception": false,
     "start_time": "2022-02-10T19:33:46.864472",
     "status": "completed"
    },
    "tags": []
   },
   "outputs": [],
   "source": [
    "X_train , X_valid , y_train , y_valid = train_test_split(X,y ,test_size=0.1 , stratify=y , random_state=0)"
   ]
  },
  {
   "cell_type": "markdown",
   "id": "2c9f594e",
   "metadata": {
    "papermill": {
     "duration": 0.015778,
     "end_time": "2022-02-10T19:33:46.927322",
     "exception": false,
     "start_time": "2022-02-10T19:33:46.911544",
     "status": "completed"
    },
    "tags": []
   },
   "source": [
    "## Model Training --- Logistic Regression\n",
    "#### and fitting the training data"
   ]
  },
  {
   "cell_type": "code",
   "execution_count": 11,
   "id": "ebf46e41",
   "metadata": {
    "execution": {
     "iopub.execute_input": "2022-02-10T19:33:46.964664Z",
     "iopub.status.busy": "2022-02-10T19:33:46.964062Z",
     "iopub.status.idle": "2022-02-10T19:33:47.001390Z",
     "shell.execute_reply": "2022-02-10T19:33:47.002431Z",
     "shell.execute_reply.started": "2022-02-10T19:23:44.533288Z"
    },
    "papermill": {
     "duration": 0.058277,
     "end_time": "2022-02-10T19:33:47.002709",
     "exception": false,
     "start_time": "2022-02-10T19:33:46.944432",
     "status": "completed"
    },
    "tags": []
   },
   "outputs": [
    {
     "data": {
      "text/plain": [
       "LogisticRegression()"
      ]
     },
     "execution_count": 11,
     "metadata": {},
     "output_type": "execute_result"
    }
   ],
   "source": [
    "model = LogisticRegression()\n",
    "# training with train data\n",
    "model.fit(X_train , y_train)"
   ]
  },
  {
   "cell_type": "markdown",
   "id": "0d2cc595",
   "metadata": {
    "papermill": {
     "duration": 0.031088,
     "end_time": "2022-02-10T19:33:47.066133",
     "exception": false,
     "start_time": "2022-02-10T19:33:47.035045",
     "status": "completed"
    },
    "tags": []
   },
   "source": [
    "## Result of Model \n",
    "#### Evaluation"
   ]
  },
  {
   "cell_type": "code",
   "execution_count": 12,
   "id": "00052041",
   "metadata": {
    "execution": {
     "iopub.execute_input": "2022-02-10T19:33:47.133767Z",
     "iopub.status.busy": "2022-02-10T19:33:47.132697Z",
     "iopub.status.idle": "2022-02-10T19:33:47.141626Z",
     "shell.execute_reply": "2022-02-10T19:33:47.142625Z",
     "shell.execute_reply.started": "2022-02-10T19:23:44.572291Z"
    },
    "papermill": {
     "duration": 0.04504,
     "end_time": "2022-02-10T19:33:47.142956",
     "exception": false,
     "start_time": "2022-02-10T19:33:47.097916",
     "status": "completed"
    },
    "tags": []
   },
   "outputs": [
    {
     "data": {
      "text/plain": [
       "0.8288770053475936"
      ]
     },
     "execution_count": 12,
     "metadata": {},
     "output_type": "execute_result"
    }
   ],
   "source": [
    "accuracy_score(model.predict(X_train), y_pred=y_train)"
   ]
  },
  {
   "cell_type": "code",
   "execution_count": 13,
   "id": "e561fd2c",
   "metadata": {
    "execution": {
     "iopub.execute_input": "2022-02-10T19:33:47.220087Z",
     "iopub.status.busy": "2022-02-10T19:33:47.219061Z",
     "iopub.status.idle": "2022-02-10T19:33:47.227446Z",
     "shell.execute_reply": "2022-02-10T19:33:47.228179Z",
     "shell.execute_reply.started": "2022-02-10T19:23:44.588189Z"
    },
    "papermill": {
     "duration": 0.053061,
     "end_time": "2022-02-10T19:33:47.228462",
     "exception": false,
     "start_time": "2022-02-10T19:33:47.175401",
     "status": "completed"
    },
    "tags": []
   },
   "outputs": [
    {
     "data": {
      "text/plain": [
       "0.8095238095238095"
      ]
     },
     "execution_count": 13,
     "metadata": {},
     "output_type": "execute_result"
    }
   ],
   "source": [
    "accuracy_score(model.predict(X_valid), y_pred=y_valid)"
   ]
  },
  {
   "cell_type": "markdown",
   "id": "aea541ff",
   "metadata": {
    "papermill": {
     "duration": 0.017225,
     "end_time": "2022-02-10T19:33:47.272931",
     "exception": false,
     "start_time": "2022-02-10T19:33:47.255706",
     "status": "completed"
    },
    "tags": []
   },
   "source": [
    "# Making a Predictive System"
   ]
  },
  {
   "cell_type": "code",
   "execution_count": 14,
   "id": "b5dcfd3f",
   "metadata": {
    "execution": {
     "iopub.execute_input": "2022-02-10T19:33:47.314283Z",
     "iopub.status.busy": "2022-02-10T19:33:47.313610Z",
     "iopub.status.idle": "2022-02-10T19:33:47.318348Z",
     "shell.execute_reply": "2022-02-10T19:33:47.318955Z",
     "shell.execute_reply.started": "2022-02-10T19:23:44.605094Z"
    },
    "papermill": {
     "duration": 0.028961,
     "end_time": "2022-02-10T19:33:47.319162",
     "exception": false,
     "start_time": "2022-02-10T19:33:47.290201",
     "status": "completed"
    },
    "tags": []
   },
   "outputs": [
    {
     "data": {
      "text/plain": [
       "array([[0.02  , 0.0371, 0.0428, ..., 0.0084, 0.009 , 0.0032],\n",
       "       [0.0453, 0.0523, 0.0843, ..., 0.0049, 0.0052, 0.0044],\n",
       "       [0.0262, 0.0582, 0.1099, ..., 0.0164, 0.0095, 0.0078],\n",
       "       ...,\n",
       "       [0.0522, 0.0437, 0.018 , ..., 0.0138, 0.0077, 0.0031],\n",
       "       [0.0303, 0.0353, 0.049 , ..., 0.0079, 0.0036, 0.0048],\n",
       "       [0.026 , 0.0363, 0.0136, ..., 0.0036, 0.0061, 0.0115]])"
      ]
     },
     "execution_count": 14,
     "metadata": {},
     "output_type": "execute_result"
    }
   ],
   "source": [
    "input_data = df.drop(columns=60, axis=0).to_numpy() #just taking a sample input\n",
    "input_data\n",
    "# input_data = np.asarray(input_data).reshape(1,-1)\n",
    "# model.predict(input_data)"
   ]
  },
  {
   "cell_type": "code",
   "execution_count": 15,
   "id": "2a6a64af",
   "metadata": {
    "execution": {
     "iopub.execute_input": "2022-02-10T19:33:47.360241Z",
     "iopub.status.busy": "2022-02-10T19:33:47.359323Z",
     "iopub.status.idle": "2022-02-10T19:33:47.370602Z",
     "shell.execute_reply": "2022-02-10T19:33:47.371318Z",
     "shell.execute_reply.started": "2022-02-10T19:24:03.891456Z"
    },
    "papermill": {
     "duration": 0.033748,
     "end_time": "2022-02-10T19:33:47.371570",
     "exception": false,
     "start_time": "2022-02-10T19:33:47.337822",
     "status": "completed"
    },
    "tags": []
   },
   "outputs": [
    {
     "name": "stdout",
     "output_type": "stream",
     "text": [
      "Mine is Detected\n",
      "['M']\n"
     ]
    }
   ],
   "source": [
    "input_data = (0.0307,0.0523,0.0653,0.0521,0.0611,0.0577,0.0665,0.0664,0.1460,0.2792,0.3877,0.4992,0.4981,0.4972,0.5607,0.7339,0.8230,0.9173,0.9975,0.9911,0.8240,0.6498,0.5980,0.4862,0.3150,0.1543,0.0989,0.0284,0.1008,0.2636,0.2694,0.2930,0.2925,0.3998,0.3660,0.3172,0.4609,0.4374,0.1820,0.3376,0.6202,0.4448,0.1863,0.1420,0.0589,0.0576,0.0672,0.0269,0.0245,0.0190,0.0063,0.0321,0.0189,0.0137,0.0277,0.0152,0.0052,0.0121,0.0124,0.0055)\n",
    "input_data= np.asarray(input_data)\n",
    "input_data= np.reshape(input_data,(1,-1))\n",
    "prediction = model.predict(input_data)\n",
    "if prediction[0] == \"M\":\n",
    "    print( \"Mine is Detected\")\n",
    "elif predictions[0] == 'R':\n",
    "    print (\"No Problem ! Rock is detected\")\n",
    "print(prediction)\n",
    "#changing the dtype of np.array\n",
    "# input_data_as_numpy = np.asarray(input_data)\n"
   ]
  }
 ],
 "metadata": {
  "kernelspec": {
   "display_name": "Python 3",
   "language": "python",
   "name": "python3"
  },
  "language_info": {
   "codemirror_mode": {
    "name": "ipython",
    "version": 3
   },
   "file_extension": ".py",
   "mimetype": "text/x-python",
   "name": "python",
   "nbconvert_exporter": "python",
   "pygments_lexer": "ipython3",
   "version": "3.7.12"
  },
  "papermill": {
   "default_parameters": {},
   "duration": 12.227108,
   "end_time": "2022-02-10T19:33:48.105567",
   "environment_variables": {},
   "exception": null,
   "input_path": "__notebook__.ipynb",
   "output_path": "__notebook__.ipynb",
   "parameters": {},
   "start_time": "2022-02-10T19:33:35.878459",
   "version": "2.3.3"
  }
 },
 "nbformat": 4,
 "nbformat_minor": 5
}
